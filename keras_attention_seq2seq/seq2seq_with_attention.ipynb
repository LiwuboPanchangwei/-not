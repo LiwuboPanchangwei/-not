{
 "cells": [
  {
   "cell_type": "code",
   "execution_count": 1,
   "metadata": {},
   "outputs": [
    {
     "name": "stderr",
     "output_type": "stream",
     "text": [
      "Using TensorFlow backend.\n"
     ]
    },
    {
     "name": "stdout",
     "output_type": "stream",
     "text": [
      "_________________________________________________________________\n",
      "Layer (type)                 Output Shape              Param #   \n",
      "=================================================================\n",
      "embedding_1 (Embedding)      (None, 50, 128)           12800     \n",
      "_________________________________________________________________\n",
      "lstm_1 (LSTM)                (None, 50, 150)           167400    \n",
      "_________________________________________________________________\n",
      "AttentionDecoder (AttentionD (None, 50, 100)           288350    \n",
      "=================================================================\n",
      "Total params: 468,550\n",
      "Trainable params: 468,550\n",
      "Non-trainable params: 0\n",
      "_________________________________________________________________\n"
     ]
    }
   ],
   "source": [
    "from keras.models import Sequential\n",
    "from keras.layers import LSTM, Embedding\n",
    "from attention_decoder import AttentionDecoder\n",
    "\n",
    "n_timesteps_in = 50\n",
    "n_timesteps_out = 30\n",
    "vocab_size = 100  #en vocab\n",
    "embedding_dim = 128\n",
    "output_dim = 100   #ch vocab\n",
    "\n",
    "model = Sequential()\n",
    "model.add(Embedding(vocab_size, embedding_dim, input_length=n_timesteps_in))\n",
    "model.add(LSTM(150, input_shape=(n_timesteps_in, embedding_dim), return_sequences=True))\n",
    "model.add(AttentionDecoder(150, output_dim, return_probabilities=False))\n",
    "model.compile(loss='categorical_crossentropy', optimizer='adam', metrics=['acc'])\n",
    " \n",
    "model.summary()"
   ]
  },
  {
   "cell_type": "code",
   "execution_count": null,
   "metadata": {
    "collapsed": true
   },
   "outputs": [],
   "source": []
  }
 ],
 "metadata": {
  "kernelspec": {
   "display_name": "Python 2",
   "language": "python",
   "name": "python2"
  },
  "language_info": {
   "codemirror_mode": {
    "name": "ipython",
    "version": 2
   },
   "file_extension": ".py",
   "mimetype": "text/x-python",
   "name": "python",
   "nbconvert_exporter": "python",
   "pygments_lexer": "ipython2",
   "version": "2.7.10"
  }
 },
 "nbformat": 4,
 "nbformat_minor": 2
}
